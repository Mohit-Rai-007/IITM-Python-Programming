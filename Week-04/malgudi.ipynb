{
 "cells": [
  {
   "cell_type": "code",
   "execution_count": 1,
   "id": "e0c5d5bc",
   "metadata": {},
   "outputs": [
    {
     "name": "stdout",
     "output_type": "stream",
     "text": [
      "['It', 'was', 'Monday', 'morning.', 'Swaminathan', 'was', 'reluctant', 'to', 'open', 'his', 'eyes.', 'He', 'considered', 'Monday', 'specially', 'unpleasant', 'in', 'the', 'calendar.', 'After', 'the', 'delicious', 'freedom', 'of', 'Saturday', 'and', 'Sunday,', 'it', 'was', 'difficult', 'to', 'get', 'into', 'the', 'Monday', 'mood', 'of', 'work', 'and', 'discipline.', 'He', 'shuddered', 'at', 'the', 'very', 'thought', 'of', 'school:', 'that', 'dismal', 'yellow', 'building;', 'the', 'fire-eyed', 'Vedanayagam,', 'his', 'class-teacher;', 'and', 'the', 'Head', 'Master', 'with', 'his', 'thin', 'long', 'cane']\n"
     ]
    }
   ],
   "source": [
    "malgudi= \"It was Monday morning. Swaminathan was reluctant to open his eyes. He considered Monday specially unpleasant in the calendar. After the delicious freedom of Saturday and Sunday, it was difficult to get into the Monday mood of work and discipline. He shuddered at the very thought of school: that dismal yellow building; the fire-eyed Vedanayagam, his class-teacher; and the Head Master with his thin long cane\"\n",
    "\n",
    "malgudi_list= malgudi.split()\n",
    "print(malgudi_list)"
   ]
  },
  {
   "cell_type": "code",
   "execution_count": 2,
   "id": "f590fa19",
   "metadata": {},
   "outputs": [
    {
     "name": "stdout",
     "output_type": "stream",
     "text": [
      "{'It', 'work', 'eyes.', 'that', 'dismal', 'specially', 'morning.', 'delicious', 'Sunday,', 'at', 'Head', 'long', 'to', 'freedom', 'in', 'was', 'cane', 'thin', 'reluctant', 'school:', 'and', 'mood', 'He', 'his', 'with', 'Monday', 'get', 'unpleasant', 'Swaminathan', 'class-teacher;', 'Vedanayagam,', 'Master', 'calendar.', 'it', 'very', 'building;', 'After', 'considered', 'shuddered', 'of', 'yellow', 'difficult', 'fire-eyed', 'thought', 'into', 'open', 'the', 'Saturday', 'discipline.'}\n"
     ]
    }
   ],
   "source": [
    "s = set(malgudi_list)\n",
    "print(s)"
   ]
  },
  {
   "cell_type": "code",
   "execution_count": 4,
   "id": "ade74234",
   "metadata": {},
   "outputs": [
    {
     "name": "stdout",
     "output_type": "stream",
     "text": [
      "49\n",
      "66\n"
     ]
    }
   ],
   "source": [
    "print(len(s))\n",
    "print(len(malgudi_list))"
   ]
  },
  {
   "cell_type": "code",
   "execution_count": 5,
   "id": "d24ebeb2",
   "metadata": {},
   "outputs": [
    {
     "name": "stdout",
     "output_type": "stream",
     "text": [
      "{'It': 0, 'work': 0, 'eyes.': 0, 'that': 0, 'dismal': 0, 'specially': 0, 'morning.': 0, 'delicious': 0, 'Sunday,': 0, 'at': 0, 'Head': 0, 'long': 0, 'to': 0, 'freedom': 0, 'in': 0, 'was': 0, 'cane': 0, 'thin': 0, 'reluctant': 0, 'school:': 0, 'and': 0, 'mood': 0, 'He': 0, 'his': 0, 'with': 0, 'Monday': 0, 'get': 0, 'unpleasant': 0, 'Swaminathan': 0, 'class-teacher;': 0, 'Vedanayagam,': 0, 'Master': 0, 'calendar.': 0, 'it': 0, 'very': 0, 'building;': 0, 'After': 0, 'considered': 0, 'shuddered': 0, 'of': 0, 'yellow': 0, 'difficult': 0, 'fire-eyed': 0, 'thought': 0, 'into': 0, 'open': 0, 'the': 0, 'Saturday': 0, 'discipline.': 0}\n"
     ]
    }
   ],
   "source": [
    "d={}\n",
    "for x in s:\n",
    "    d[x]=0\n",
    "print(d)"
   ]
  },
  {
   "cell_type": "code",
   "execution_count": 6,
   "id": "d15639ac",
   "metadata": {},
   "outputs": [
    {
     "data": {
      "text/plain": [
       "0"
      ]
     },
     "execution_count": 6,
     "metadata": {},
     "output_type": "execute_result"
    }
   ],
   "source": [
    "d[\"the\"]"
   ]
  },
  {
   "cell_type": "code",
   "execution_count": 7,
   "id": "33dfac88",
   "metadata": {},
   "outputs": [
    {
     "name": "stdout",
     "output_type": "stream",
     "text": [
      "{'It': 1, 'work': 1, 'eyes.': 1, 'that': 1, 'dismal': 1, 'specially': 1, 'morning.': 1, 'delicious': 1, 'Sunday,': 1, 'at': 1, 'Head': 1, 'long': 1, 'to': 2, 'freedom': 1, 'in': 1, 'was': 3, 'cane': 1, 'thin': 1, 'reluctant': 1, 'school:': 1, 'and': 3, 'mood': 1, 'He': 2, 'his': 3, 'with': 1, 'Monday': 3, 'get': 1, 'unpleasant': 1, 'Swaminathan': 1, 'class-teacher;': 1, 'Vedanayagam,': 1, 'Master': 1, 'calendar.': 1, 'it': 1, 'very': 1, 'building;': 1, 'After': 1, 'considered': 1, 'shuddered': 1, 'of': 3, 'yellow': 1, 'difficult': 1, 'fire-eyed': 1, 'thought': 1, 'into': 1, 'open': 1, 'the': 6, 'Saturday': 1, 'discipline.': 1}\n"
     ]
    }
   ],
   "source": [
    "for x in malgudi_list:\n",
    "    d[x]+=1\n",
    "print(d)"
   ]
  },
  {
   "cell_type": "code",
   "execution_count": 9,
   "id": "e9185d17",
   "metadata": {},
   "outputs": [
    {
     "name": "stdout",
     "output_type": "stream",
     "text": [
      "6\n",
      "the\n"
     ]
    }
   ],
   "source": [
    "max=0\n",
    "freq_word=\"\"\n",
    "for x in malgudi_list:\n",
    "    if d[x]>max:\n",
    "        max=d[x]\n",
    "        freq_word= x\n",
    "print(max)\n",
    "print(freq_word)"
   ]
  },
  {
   "cell_type": "code",
   "execution_count": 11,
   "id": "043f77fc",
   "metadata": {},
   "outputs": [
    {
     "name": "stdout",
     "output_type": "stream",
     "text": [
      "53\n"
     ]
    }
   ],
   "source": [
    "sentence=input(\"Enter a Sentence\")\n",
    "def lower_char(sentence):\n",
    "    count=0\n",
    "    for i in sentence:\n",
    "        if i.islower():\n",
    "            count+=1\n",
    "    print(count)\n",
    "\n",
    "lower_char(sentence)"
   ]
  }
 ],
 "metadata": {
  "kernelspec": {
   "display_name": ".venv",
   "language": "python",
   "name": "python3"
  },
  "language_info": {
   "codemirror_mode": {
    "name": "ipython",
    "version": 3
   },
   "file_extension": ".py",
   "mimetype": "text/x-python",
   "name": "python",
   "nbconvert_exporter": "python",
   "pygments_lexer": "ipython3",
   "version": "3.13.3"
  }
 },
 "nbformat": 4,
 "nbformat_minor": 5
}
