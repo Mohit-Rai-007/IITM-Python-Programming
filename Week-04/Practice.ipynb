{
 "cells": [
  {
   "cell_type": "code",
   "execution_count": 6,
   "id": "b74fb143",
   "metadata": {},
   "outputs": [
    {
     "name": "stdout",
     "output_type": "stream",
     "text": [
      "[0, 2, 4, 6, 8]\n"
     ]
    }
   ],
   "source": [
    "list=[num for num in range(0,9) if num%2==0]\n",
    "print(list)"
   ]
  },
  {
   "cell_type": "code",
   "execution_count": null,
   "id": "24fc9f25",
   "metadata": {},
   "outputs": [
    {
     "data": {
      "text/plain": [
       "[[0, 1, 2], [0, 1, 2], [0, 1, 2]]"
      ]
     },
     "execution_count": 9,
     "metadata": {},
     "output_type": "execute_result"
    }
   ],
   "source": [
    "l1=[[x for x in range(3)] for y in range (3)]\n",
    "l1"
   ]
  },
  {
   "cell_type": "code",
   "execution_count": 13,
   "id": "0cd93345",
   "metadata": {},
   "outputs": [
    {
     "name": "stdout",
     "output_type": "stream",
     "text": [
      "34\n"
     ]
    }
   ],
   "source": [
    "tup=(1,2,1,1,1,1,1,1,1,1,1,1,1,1,1,1,1,1,1,1,1,1,1,1,1,1,1,1,1,1,1,1,1,1,1,3,4,5,6,7,8,9)\n",
    "print(tup.count(1))"
   ]
  },
  {
   "cell_type": "code",
   "execution_count": 16,
   "id": "51937dc7",
   "metadata": {},
   "outputs": [
    {
     "data": {
      "text/plain": [
       "tuple"
      ]
     },
     "execution_count": 16,
     "metadata": {},
     "output_type": "execute_result"
    }
   ],
   "source": [
    "s1=(1,2,3,4,5)\n",
    "type(s1)"
   ]
  },
  {
   "cell_type": "code",
   "execution_count": null,
   "id": "179e315e",
   "metadata": {},
   "outputs": [
    {
     "name": "stdout",
     "output_type": "stream",
     "text": [
      "25\n"
     ]
    }
   ],
   "source": [
    "def sqrt(num):\n",
    "    return(num**2)\n",
    "\n",
    "sqrt(5)"
   ]
  },
  {
   "cell_type": "code",
   "execution_count": 3,
   "id": "f3efb11d",
   "metadata": {},
   "outputs": [
    {
     "name": "stdout",
     "output_type": "stream",
     "text": [
      "25\n"
     ]
    }
   ],
   "source": [
    "sqrt(5)"
   ]
  },
  {
   "cell_type": "code",
   "execution_count": null,
   "id": "f881e3f6",
   "metadata": {},
   "outputs": [
    {
     "name": "stdout",
     "output_type": "stream",
     "text": [
      "Your first name is: Mohit\n",
      "Your last name is: Rai\n"
     ]
    }
   ],
   "source": [
    "def name():\n",
    "    first = input(\"Enter your first name: \")\n",
    "    last = input(\"Enter your last name: \")\n",
    "    print(\"Your first name is: \" + first)\n",
    "    print(\"Your last name is: \" + last)\n"
   ]
  },
  {
   "cell_type": "code",
   "execution_count": 10,
   "id": "461353c1",
   "metadata": {},
   "outputs": [
    {
     "name": "stdout",
     "output_type": "stream",
     "text": [
      "Your first name is: Mohit\n",
      "Your last name is: Rai\n"
     ]
    }
   ],
   "source": [
    "name()"
   ]
  },
  {
   "cell_type": "code",
   "execution_count": null,
   "id": "4a0c2144",
   "metadata": {},
   "outputs": [
    {
     "data": {
      "text/plain": [
       "[6, 7, 8, 9, 10]"
      ]
     },
     "execution_count": 6,
     "metadata": {},
     "output_type": "execute_result"
    }
   ],
   "source": [
    "list(filter(lambda x : x>5, [1,2,3,4,5,6,7,8,9,10]))"
   ]
  },
  {
   "cell_type": "code",
   "execution_count": 5,
   "id": "bb5109ac",
   "metadata": {},
   "outputs": [
    {
     "data": {
      "text/plain": [
       "{1, 2, 3, 4, 5, 6, 7}"
      ]
     },
     "execution_count": 5,
     "metadata": {},
     "output_type": "execute_result"
    }
   ],
   "source": [
    "A={1,2,3,4,5,6,7}\n",
    "B={4,5,6,7}\n",
    "\n",
    "A|B"
   ]
  },
  {
   "cell_type": "code",
   "execution_count": 10,
   "id": "dc017561",
   "metadata": {},
   "outputs": [
    {
     "name": "stdout",
     "output_type": "stream",
     "text": [
      "[1, 3, 4, 5, 7]\n"
     ]
    }
   ],
   "source": [
    "l=[1,2,3,4,5,6,7]\n",
    "i1=1\n",
    "i2=5\n",
    "if i1>i2:\n",
    "    l.pop(i1)\n",
    "    l.pop(i2)\n",
    "else:\n",
    "    l.pop(i2)\n",
    "    l.pop(i1)\n",
    "\n",
    "print(l)"
   ]
  },
  {
   "cell_type": "code",
   "execution_count": 12,
   "id": "f84361e1",
   "metadata": {},
   "outputs": [
    {
     "name": "stdout",
     "output_type": "stream",
     "text": [
      "56\n"
     ]
    }
   ],
   "source": [
    "l=[1,2,3,4,5,6,7]\n",
    "sum_of_square=0\n",
    "for i in range(len(l)):\n",
    "    if l[i]%2==0:\n",
    "        sum_of_square+= l[i]**2\n",
    "\n",
    "print(sum_of_square)"
   ]
  },
  {
   "cell_type": "code",
   "execution_count": 28,
   "id": "dec2f35a",
   "metadata": {},
   "outputs": [
    {
     "name": "stdout",
     "output_type": "stream",
     "text": [
      "          * \n",
      "        * * \n",
      "      * * * \n",
      "    * * * * \n",
      "  * * * * * \n"
     ]
    }
   ],
   "source": [
    "n=5\n",
    "for i in range(n):\n",
    "    for j in range(i,n):\n",
    "        print(\" \",end=\" \")\n",
    "    for j in range(i+1):\n",
    "        print(\"*\",end=\" \")\n",
    "    print()"
   ]
  },
  {
   "cell_type": "code",
   "execution_count": 32,
   "id": "c2831383",
   "metadata": {},
   "outputs": [
    {
     "name": "stdout",
     "output_type": "stream",
     "text": [
      "      0 \n",
      "    0 0 0 \n",
      "  0 0 0 0 0 \n"
     ]
    }
   ],
   "source": [
    "n=3\n",
    "for i in range(n):\n",
    "    for j in range(i,n):\n",
    "        print(\" \",end=\" \")\n",
    "    for j in range(i+1):\n",
    "        print(\"0\",end=\" \")\n",
    "    for j in range(i):\n",
    "        print(\"0\",end=\" \")\n",
    "    print()"
   ]
  },
  {
   "cell_type": "code",
   "execution_count": 38,
   "id": "5dee0719",
   "metadata": {},
   "outputs": [
    {
     "name": "stdout",
     "output_type": "stream",
     "text": [
      "0 0 0 0 0 0 0 0 0 \n",
      "  0 0 0 0 0 0 0 \n",
      "    0 0 0 0 0 \n",
      "      0 0 0 \n",
      "        0 \n"
     ]
    }
   ],
   "source": [
    "n=5\n",
    "for i in range(n):\n",
    "    for j in range(i):\n",
    "        print(\" \",end=\" \")\n",
    "    for j in range(i,n-1):\n",
    "        print(\"0\",end=\" \")\n",
    "    for j in range(i,n):\n",
    "        print(\"0\",end=\" \")\n",
    "    print()"
   ]
  },
  {
   "cell_type": "code",
   "execution_count": 45,
   "id": "a6fec4b8",
   "metadata": {},
   "outputs": [
    {
     "name": "stdout",
     "output_type": "stream",
     "text": [
      "     0 \n",
      "    0 0 0 \n",
      "   0 0 0 0 0 \n",
      "  0 0 0 0 0 0 0 \n",
      " 0 0 0 0 0 0 0 0 0 \n",
      "0 0 0 0 0 0 0 0 0 \n",
      " 0 0 0 0 0 0 0 \n",
      "  0 0 0 0 0 \n",
      "   0 0 0 \n"
     ]
    }
   ],
   "source": [
    "n=5\n",
    "for i in range(n):\n",
    "    for j in range(i,n):\n",
    "        print(\" \",end=\"\")\n",
    "    for j in range(i):\n",
    "        print(\"0\",end=\" \")\n",
    "    for j in range(i+1):\n",
    "        print(\"0\",end=\" \")\n",
    "    print()\n",
    "for i in range(n-1):\n",
    "    for j in range(i):\n",
    "        print(\" \",end=\"\")\n",
    "    for j in range(i,n-1):\n",
    "        print(\"0\",end=\" \")\n",
    "    for j in range(i,n):\n",
    "        print(\"0\",end=\" \")\n",
    "    print()"
   ]
  },
  {
   "cell_type": "code",
   "execution_count": 49,
   "id": "90374c2d",
   "metadata": {},
   "outputs": [
    {
     "name": "stdout",
     "output_type": "stream",
     "text": [
      "    0 \n",
      "   0 0 \n",
      "  0 0 0 \n",
      " 0 0 0 0 \n",
      "0 0 0 0 0 \n"
     ]
    }
   ],
   "source": [
    "n=5\n",
    "\n",
    "for i in range (n):\n",
    "    print(\" \"*((n-i)-1) + \"0 \"*(i+1))"
   ]
  },
  {
   "cell_type": "code",
   "execution_count": 50,
   "id": "739701c3",
   "metadata": {},
   "outputs": [
    {
     "name": "stdout",
     "output_type": "stream",
     "text": [
      "{'a': 1, 'b': 2}\n"
     ]
    }
   ],
   "source": [
    "d1 = {'a': 1, 'b': 2}\n",
    "d2=d1.copy()\n",
    "print(d2)"
   ]
  },
  {
   "cell_type": "code",
   "execution_count": 1,
   "id": "880a6475",
   "metadata": {},
   "outputs": [
    {
     "ename": "ModuleNotFoundError",
     "evalue": "No module named 'sympy'",
     "output_type": "error",
     "traceback": [
      "\u001b[31m---------------------------------------------------------------------------\u001b[39m",
      "\u001b[31mModuleNotFoundError\u001b[39m                       Traceback (most recent call last)",
      "\u001b[36mCell\u001b[39m\u001b[36m \u001b[39m\u001b[32mIn[1]\u001b[39m\u001b[32m, line 1\u001b[39m\n\u001b[32m----> \u001b[39m\u001b[32m1\u001b[39m \u001b[38;5;28;01mimport\u001b[39;00m\u001b[38;5;250m \u001b[39m\u001b[34;01msympy\u001b[39;00m\u001b[38;5;250m \u001b[39m\u001b[38;5;28;01mas\u001b[39;00m\u001b[38;5;250m \u001b[39m\u001b[34;01msp\u001b[39;00m\n\u001b[32m      3\u001b[39m \u001b[38;5;66;03m# Define the matrices\u001b[39;00m\n\u001b[32m      4\u001b[39m T_std = sp.Matrix([[\u001b[32m4\u001b[39m, \u001b[32m7\u001b[39m],\n\u001b[32m      5\u001b[39m                    [\u001b[32m5\u001b[39m, \u001b[32m8\u001b[39m]])\n",
      "\u001b[31mModuleNotFoundError\u001b[39m: No module named 'sympy'"
     ]
    }
   ],
   "source": [
    "import sympy as sp\n",
    "\n",
    "# Define the matrices\n",
    "T_std = sp.Matrix([[4, 7],\n",
    "                   [5, 8]])\n",
    "\n",
    "P_gamma = sp.Matrix([[2, 3],\n",
    "                     [1, 1]])\n",
    "\n",
    "P_beta = sp.Matrix([[1, 1],\n",
    "                    [0, 1]])\n",
    "\n",
    "# Compute the inverses\n",
    "P_gamma_inv = P_gamma.inv()\n",
    "P_beta_inv = P_beta.inv()\n",
    "print(P_beta_inv)"
   ]
  }
 ],
 "metadata": {
  "kernelspec": {
   "display_name": ".venv",
   "language": "python",
   "name": "python3"
  },
  "language_info": {
   "codemirror_mode": {
    "name": "ipython",
    "version": 3
   },
   "file_extension": ".py",
   "mimetype": "text/x-python",
   "name": "python",
   "nbconvert_exporter": "python",
   "pygments_lexer": "ipython3",
   "version": "3.13.3"
  }
 },
 "nbformat": 4,
 "nbformat_minor": 5
}
