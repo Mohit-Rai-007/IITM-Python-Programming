{
 "cells": [
  {
   "cell_type": "code",
   "execution_count": 6,
   "id": "b74fb143",
   "metadata": {},
   "outputs": [
    {
     "name": "stdout",
     "output_type": "stream",
     "text": [
      "[0, 2, 4, 6, 8]\n"
     ]
    }
   ],
   "source": [
    "list=[num for num in range(0,9) if num%2==0]\n",
    "print(list)"
   ]
  },
  {
   "cell_type": "code",
   "execution_count": null,
   "id": "24fc9f25",
   "metadata": {},
   "outputs": [
    {
     "data": {
      "text/plain": [
       "[[0, 1, 2], [0, 1, 2], [0, 1, 2]]"
      ]
     },
     "execution_count": 9,
     "metadata": {},
     "output_type": "execute_result"
    }
   ],
   "source": [
    "l1=[[x for x in range(3)] for y in range (3)]\n",
    "l1"
   ]
  },
  {
   "cell_type": "code",
   "execution_count": 13,
   "id": "0cd93345",
   "metadata": {},
   "outputs": [
    {
     "name": "stdout",
     "output_type": "stream",
     "text": [
      "34\n"
     ]
    }
   ],
   "source": [
    "tup=(1,2,1,1,1,1,1,1,1,1,1,1,1,1,1,1,1,1,1,1,1,1,1,1,1,1,1,1,1,1,1,1,1,1,1,3,4,5,6,7,8,9)\n",
    "print(tup.count(1))"
   ]
  },
  {
   "cell_type": "code",
   "execution_count": 16,
   "id": "51937dc7",
   "metadata": {},
   "outputs": [
    {
     "data": {
      "text/plain": [
       "tuple"
      ]
     },
     "execution_count": 16,
     "metadata": {},
     "output_type": "execute_result"
    }
   ],
   "source": [
    "s1=(1,2,3,4,5)\n",
    "type(s1)"
   ]
  },
  {
   "cell_type": "code",
   "execution_count": null,
   "id": "179e315e",
   "metadata": {},
   "outputs": [
    {
     "name": "stdout",
     "output_type": "stream",
     "text": [
      "25\n"
     ]
    }
   ],
   "source": [
    "def sqrt(num):\n",
    "    return(num**2)\n",
    "\n",
    "sqrt(5)"
   ]
  },
  {
   "cell_type": "code",
   "execution_count": 3,
   "id": "f3efb11d",
   "metadata": {},
   "outputs": [
    {
     "name": "stdout",
     "output_type": "stream",
     "text": [
      "25\n"
     ]
    }
   ],
   "source": [
    "sqrt(5)"
   ]
  },
  {
   "cell_type": "code",
   "execution_count": null,
   "id": "f881e3f6",
   "metadata": {},
   "outputs": [
    {
     "name": "stdout",
     "output_type": "stream",
     "text": [
      "Your first name is: Mohit\n",
      "Your last name is: Rai\n"
     ]
    }
   ],
   "source": [
    "def name():\n",
    "    first = input(\"Enter your first name: \")\n",
    "    last = input(\"Enter your last name: \")\n",
    "    print(\"Your first name is: \" + first)\n",
    "    print(\"Your last name is: \" + last)\n"
   ]
  },
  {
   "cell_type": "code",
   "execution_count": 10,
   "id": "461353c1",
   "metadata": {},
   "outputs": [
    {
     "name": "stdout",
     "output_type": "stream",
     "text": [
      "Your first name is: Mohit\n",
      "Your last name is: Rai\n"
     ]
    }
   ],
   "source": [
    "name()"
   ]
  }
 ],
 "metadata": {
  "kernelspec": {
   "display_name": ".venv",
   "language": "python",
   "name": "python3"
  },
  "language_info": {
   "codemirror_mode": {
    "name": "ipython",
    "version": 3
   },
   "file_extension": ".py",
   "mimetype": "text/x-python",
   "name": "python",
   "nbconvert_exporter": "python",
   "pygments_lexer": "ipython3",
   "version": "3.13.3"
  }
 },
 "nbformat": 4,
 "nbformat_minor": 5
}
