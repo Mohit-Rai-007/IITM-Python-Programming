{
 "cells": [
  {
   "cell_type": "code",
   "execution_count": 2,
   "id": "7096415f",
   "metadata": {},
   "outputs": [
    {
     "name": "stdout",
     "output_type": "stream",
     "text": [
      "555      |  66666  |  5555555\n"
     ]
    }
   ],
   "source": [
    "a,b = \"56\"\n",
    "s = f'{a*3:9}|{b*5:^9}|{a*7:>9}'\n",
    "print(s)"
   ]
  },
  {
   "cell_type": "markdown",
   "id": "f3b6898e",
   "metadata": {},
   "source": [
    "Formatting:\n",
    "\n",
    "f'{a*3:9}': by default left-aligns strings in width 9\n",
    "→ '555 '\n",
    "\n",
    "f'{b*5:^9}': center-align in width 9\n",
    "→ ' 66666 '\n",
    "\n",
    "f'{a*7:>9}': right-align in width 9\n",
    "→ ' 5555555'"
   ]
  },
  {
   "cell_type": "code",
   "execution_count": 7,
   "id": "14f5bedb",
   "metadata": {},
   "outputs": [
    {
     "name": "stdout",
     "output_type": "stream",
     "text": [
      "['555      |  66666  |  5555555']\n"
     ]
    },
    {
     "data": {
      "text/plain": [
       "NoneType"
      ]
     },
     "execution_count": 7,
     "metadata": {},
     "output_type": "execute_result"
    }
   ],
   "source": [
    "type(print(s.upper().split(\"-\")))"
   ]
  },
  {
   "cell_type": "markdown",
   "id": "822d3ca4",
   "metadata": {},
   "source": [
    "| Expression                          | Type                                 |\n",
    "| ----------------------------------- | ------------------------------------ |\n",
    "| `print(s.upper().split(\"-\"))`       | `NoneType` (if evaluated as a value) |\n",
    "| `type(s.upper().split(\"-\"))`        | `list`                               |\n",
    "| `type(print(s.upper().split(\"-\")))` | `NoneType`                           |\n"
   ]
  },
  {
   "cell_type": "code",
   "execution_count": 8,
   "id": "d3c0eb31",
   "metadata": {},
   "outputs": [
    {
     "data": {
      "text/plain": [
       "list"
      ]
     },
     "execution_count": 8,
     "metadata": {},
     "output_type": "execute_result"
    }
   ],
   "source": [
    "type(s[:3].upper().split())"
   ]
  },
  {
   "cell_type": "code",
   "execution_count": 9,
   "id": "5773bbf7",
   "metadata": {},
   "outputs": [
    {
     "ename": "AttributeError",
     "evalue": "'bool' object has no attribute 'isapha'",
     "output_type": "error",
     "traceback": [
      "\u001b[31m---------------------------------------------------------------------------\u001b[39m",
      "\u001b[31mAttributeError\u001b[39m                            Traceback (most recent call last)",
      "\u001b[36mCell\u001b[39m\u001b[36m \u001b[39m\u001b[32mIn[9]\u001b[39m\u001b[32m, line 1\u001b[39m\n\u001b[32m----> \u001b[39m\u001b[32m1\u001b[39m \u001b[38;5;28mtype\u001b[39m(\u001b[43ms\u001b[49m\u001b[43m.\u001b[49m\u001b[43mislower\u001b[49m\u001b[43m(\u001b[49m\u001b[43m)\u001b[49m\u001b[43m.\u001b[49m\u001b[43misapha\u001b[49m())\n",
      "\u001b[31mAttributeError\u001b[39m: 'bool' object has no attribute 'isapha'"
     ]
    }
   ],
   "source": [
    "type(s.islower().isapha())"
   ]
  },
  {
   "cell_type": "markdown",
   "id": "c7532027",
   "metadata": {},
   "source": [
    " Final conclusion:\n",
    "The expression s.islower().isapha() (or .isalpha()) is invalid and will raise an error.\n",
    "\n",
    "So the type of the expression itself does not exist because it raises an exception.\n",
    "\n",
    "If you meant s.islower(), its type is bool."
   ]
  },
  {
   "cell_type": "code",
   "execution_count": 11,
   "id": "998232da",
   "metadata": {},
   "outputs": [
    {
     "ename": "TypeError",
     "evalue": "startswith expected at least 1 argument, got 0",
     "output_type": "error",
     "traceback": [
      "\u001b[31m---------------------------------------------------------------------------\u001b[39m",
      "\u001b[31mTypeError\u001b[39m                                 Traceback (most recent call last)",
      "\u001b[36mCell\u001b[39m\u001b[36m \u001b[39m\u001b[32mIn[11]\u001b[39m\u001b[32m, line 1\u001b[39m\n\u001b[32m----> \u001b[39m\u001b[32m1\u001b[39m \u001b[38;5;28mtype\u001b[39m(\u001b[43ms\u001b[49m\u001b[43m.\u001b[49m\u001b[43mstartswith\u001b[49m\u001b[43m(\u001b[49m\u001b[43m)\u001b[49m)\n",
      "\u001b[31mTypeError\u001b[39m: startswith expected at least 1 argument, got 0"
     ]
    }
   ],
   "source": [
    "type(s.startswith())"
   ]
  },
  {
   "cell_type": "markdown",
   "id": "7977a425",
   "metadata": {},
   "source": [
    "What does startswith() do?\n",
    "startswith() is a string method used to check if the string starts with a specified prefix.\n",
    "\n",
    "It requires at least one argument: the prefix to check for.\n",
    "\n",
    "s.startswith('a')\n",
    "\n",
    "What happens if you call s.startswith() with no arguments?\n",
    "Python will raise a TypeError because the required positional argument is missing.\n",
    "\n",
    "So:\n",
    "The expression s.startswith() without any arguments will raise an error.\n",
    "\n",
    "Therefore, it does not have a type because it does not successfully evaluate.\n",
    "\n",
    "| Expression                | Result                                   |\n",
    "| ------------------------- | ---------------------------------------- |\n",
    "| `s.startswith()`          | Raises `TypeError` (missing argument)    |\n",
    "| `type(s.startswith('a'))` | `<class 'bool'>` (returns True or False) |\n",
    "\n",
    "\n",
    "If you want to know the type when used correctly:\n",
    "\n",
    "type(s.startswith('prefix'))  # returns <class 'bool'>\n"
   ]
  },
  {
   "cell_type": "code",
   "execution_count": 12,
   "id": "4fb19496",
   "metadata": {},
   "outputs": [
    {
     "data": {
      "text/plain": [
       "list"
      ]
     },
     "execution_count": 12,
     "metadata": {},
     "output_type": "execute_result"
    }
   ],
   "source": [
    "type(list(s))"
   ]
  },
  {
   "cell_type": "code",
   "execution_count": 13,
   "id": "d25a7140",
   "metadata": {},
   "outputs": [
    {
     "name": "stdout",
     "output_type": "stream",
     "text": [
      "555      |  66666  |  5555555\n"
     ]
    }
   ],
   "source": [
    "print(s)"
   ]
  },
  {
   "cell_type": "markdown",
   "id": "858e1a7d",
   "metadata": {},
   "source": [
    "What is the value of the expression bool('0.0')?\n",
    "\n",
    "Key Concept:\n",
    "'0.0' is a non-empty string.\n",
    "\n",
    "In Python, any non-empty string passed to bool() evaluates to True.\n",
    "\n",
    "It doesn't matter that the string represents the number zero — it is still a non-empty string.\n",
    "\n",
    "✅ Final Answer:\n",
    "True\n"
   ]
  },
  {
   "cell_type": "markdown",
   "id": "9bc547a6",
   "metadata": {},
   "source": [
    "What is the value of the expression bool(1 and 2 and 0)?\n",
    "\n",
    "Step-by-step:\n",
    "1. and in Python:\n",
    "The and operator returns the first falsy value it encounters, or the last value if all are truthy.\n",
    "\n",
    "Expression: 1 and 2 and 0\n",
    "1 is truthy → continue\n",
    "\n",
    "2 is truthy → continue\n",
    "\n",
    "0 is falsy → so the expression evaluates to 0\n",
    "\n",
    "2. bool(0):\n",
    "0 is falsy → bool(0) is False\n",
    "\n",
    "✅ Final Answer:\n",
    "False\n"
   ]
  },
  {
   "cell_type": "markdown",
   "id": "4e15cf9a",
   "metadata": {},
   "source": [
    "What is the value of the expression 0 or \"2\" and 4?\n",
    "\n",
    "Step-by-step:\n",
    "Operator precedence in Python:\n",
    "and has higher precedence than or, so this is grouped as:\n",
    "\n",
    "0 or (\"2\" and 4)\n",
    "\n",
    "\n",
    "1. Evaluate \"2\" and 4:\n",
    "\"2\" is a non-empty string → truthy\n",
    "\n",
    "and returns the last truthy value → so \"2\" and 4 evaluates to 4\n",
    "\n",
    "2. Now evaluate 0 or 4:\n",
    "0 is falsy\n",
    "\n",
    "or returns the first truthy value → so this evaluates to 4\n",
    "\n",
    "✅ Final Answer:\n",
    "4\n"
   ]
  },
  {
   "cell_type": "code",
   "execution_count": 15,
   "id": "f15a8916",
   "metadata": {},
   "outputs": [
    {
     "name": "stdout",
     "output_type": "stream",
     "text": [
      "a\n",
      "b\n"
     ]
    }
   ],
   "source": [
    "if a:\n",
    "  print('a')\n",
    "if b:\n",
    "  print('b')\n",
    "elif c:\n",
    "  print('c')"
   ]
  },
  {
   "cell_type": "code",
   "execution_count": 16,
   "id": "33213a5f",
   "metadata": {},
   "outputs": [
    {
     "ename": "NameError",
     "evalue": "name 'c' is not defined",
     "output_type": "error",
     "traceback": [
      "\u001b[31m---------------------------------------------------------------------------\u001b[39m",
      "\u001b[31mNameError\u001b[39m                                 Traceback (most recent call last)",
      "\u001b[36mCell\u001b[39m\u001b[36m \u001b[39m\u001b[32mIn[16]\u001b[39m\u001b[32m, line 3\u001b[39m\n\u001b[32m      1\u001b[39m \u001b[38;5;28;01mif\u001b[39;00m a:\n\u001b[32m      2\u001b[39m   \u001b[38;5;28;01mif\u001b[39;00m b:\n\u001b[32m----> \u001b[39m\u001b[32m3\u001b[39m     \u001b[38;5;28;01mif\u001b[39;00m \u001b[43mc\u001b[49m:\n\u001b[32m      4\u001b[39m       \u001b[38;5;28mprint\u001b[39m(\u001b[33m'\u001b[39m\u001b[33mc\u001b[39m\u001b[33m'\u001b[39m)\n\u001b[32m      5\u001b[39m     \u001b[38;5;28mprint\u001b[39m(\u001b[33m'\u001b[39m\u001b[33mb\u001b[39m\u001b[33m'\u001b[39m)\n",
      "\u001b[31mNameError\u001b[39m: name 'c' is not defined"
     ]
    }
   ],
   "source": [
    "if a:\n",
    "  if b:\n",
    "    if c:\n",
    "      print('c')\n",
    "    print('b')\n",
    "  print('a')"
   ]
  },
  {
   "cell_type": "code",
   "execution_count": 17,
   "id": "ac1c2a15",
   "metadata": {},
   "outputs": [
    {
     "name": "stdout",
     "output_type": "stream",
     "text": [
      "b\n"
     ]
    },
    {
     "ename": "NameError",
     "evalue": "name 'c' is not defined",
     "output_type": "error",
     "traceback": [
      "\u001b[31m---------------------------------------------------------------------------\u001b[39m",
      "\u001b[31mNameError\u001b[39m                                 Traceback (most recent call last)",
      "\u001b[36mCell\u001b[39m\u001b[36m \u001b[39m\u001b[32mIn[17]\u001b[39m\u001b[32m, line 4\u001b[39m\n\u001b[32m      2\u001b[39m \u001b[38;5;28;01mif\u001b[39;00m b:\n\u001b[32m      3\u001b[39m     \u001b[38;5;28mprint\u001b[39m(\u001b[33m'\u001b[39m\u001b[33mb\u001b[39m\u001b[33m'\u001b[39m)\n\u001b[32m----> \u001b[39m\u001b[32m4\u001b[39m \u001b[38;5;28;01mif\u001b[39;00m \u001b[43mc\u001b[49m:\n\u001b[32m      5\u001b[39m     \u001b[38;5;28mprint\u001b[39m(\u001b[33m'\u001b[39m\u001b[33mc\u001b[39m\u001b[33m'\u001b[39m)\n\u001b[32m      6\u001b[39m \u001b[38;5;28mprint\u001b[39m(\u001b[33m'\u001b[39m\u001b[33ma\u001b[39m\u001b[33m'\u001b[39m)\n",
      "\u001b[31mNameError\u001b[39m: name 'c' is not defined"
     ]
    }
   ],
   "source": [
    "if a:\n",
    "    if b:\n",
    "        print('b')\n",
    "    if c:\n",
    "        print('c')\n",
    "    print('a')"
   ]
  },
  {
   "cell_type": "code",
   "execution_count": 18,
   "id": "e564d740",
   "metadata": {},
   "outputs": [
    {
     "name": "stdout",
     "output_type": "stream",
     "text": [
      "ab\n"
     ]
    }
   ],
   "source": [
    "if a:\n",
    "    if b:\n",
    "        print('ab')\n",
    "elif c:\n",
    "    print('c')"
   ]
  },
  {
   "cell_type": "code",
   "execution_count": 19,
   "id": "121c7184",
   "metadata": {},
   "outputs": [
    {
     "name": "stdout",
     "output_type": "stream",
     "text": [
      "ab\n"
     ]
    }
   ],
   "source": [
    "if a or b:\n",
    "    print('ab')\n",
    "elif c:\n",
    "    print('c')"
   ]
  },
  {
   "cell_type": "code",
   "execution_count": 20,
   "id": "cde8c1a3",
   "metadata": {},
   "outputs": [
    {
     "name": "stdout",
     "output_type": "stream",
     "text": [
      "ab\n"
     ]
    }
   ],
   "source": [
    "if not (not a or not b):\n",
    "    print('ab')\n",
    "elif c:\n",
    "    print('c')"
   ]
  },
  {
   "cell_type": "code",
   "execution_count": 22,
   "id": "74a7b50b",
   "metadata": {},
   "outputs": [
    {
     "name": "stdout",
     "output_type": "stream",
     "text": [
      "ab\n"
     ]
    },
    {
     "ename": "NameError",
     "evalue": "name 'c' is not defined",
     "output_type": "error",
     "traceback": [
      "\u001b[31m---------------------------------------------------------------------------\u001b[39m",
      "\u001b[31mNameError\u001b[39m                                 Traceback (most recent call last)",
      "\u001b[36mCell\u001b[39m\u001b[36m \u001b[39m\u001b[32mIn[22]\u001b[39m\u001b[32m, line 4\u001b[39m\n\u001b[32m      2\u001b[39m     \u001b[38;5;28;01mif\u001b[39;00m b:\n\u001b[32m      3\u001b[39m         \u001b[38;5;28mprint\u001b[39m(\u001b[33m'\u001b[39m\u001b[33mab\u001b[39m\u001b[33m'\u001b[39m)\n\u001b[32m----> \u001b[39m\u001b[32m4\u001b[39m \u001b[38;5;28;01mif\u001b[39;00m \u001b[43mc\u001b[49m:\n\u001b[32m      5\u001b[39m     \u001b[38;5;28mprint\u001b[39m(\u001b[33m'\u001b[39m\u001b[33mc\u001b[39m\u001b[33m'\u001b[39m)\n",
      "\u001b[31mNameError\u001b[39m: name 'c' is not defined"
     ]
    }
   ],
   "source": [
    "if a:\n",
    "    if b:\n",
    "        print('ab')\n",
    "if c:\n",
    "    print('c')"
   ]
  },
  {
   "cell_type": "code",
   "execution_count": 23,
   "id": "7d1f7d38",
   "metadata": {},
   "outputs": [
    {
     "name": "stdout",
     "output_type": "stream",
     "text": [
      "ab\n"
     ]
    }
   ],
   "source": [
    "if a and b:\n",
    "    print('ab')\n",
    "elif c:\n",
    "    print('c')"
   ]
  },
  {
   "cell_type": "code",
   "execution_count": 24,
   "id": "51f809e3",
   "metadata": {},
   "outputs": [
    {
     "name": "stdout",
     "output_type": "stream",
     "text": [
      "ab\n"
     ]
    },
    {
     "ename": "NameError",
     "evalue": "name 'c' is not defined",
     "output_type": "error",
     "traceback": [
      "\u001b[31m---------------------------------------------------------------------------\u001b[39m",
      "\u001b[31mNameError\u001b[39m                                 Traceback (most recent call last)",
      "\u001b[36mCell\u001b[39m\u001b[36m \u001b[39m\u001b[32mIn[24]\u001b[39m\u001b[32m, line 3\u001b[39m\n\u001b[32m      1\u001b[39m \u001b[38;5;28;01mif\u001b[39;00m a \u001b[38;5;129;01mand\u001b[39;00m b:\n\u001b[32m      2\u001b[39m     \u001b[38;5;28mprint\u001b[39m(\u001b[33m'\u001b[39m\u001b[33mab\u001b[39m\u001b[33m'\u001b[39m)\n\u001b[32m----> \u001b[39m\u001b[32m3\u001b[39m \u001b[38;5;28;01mif\u001b[39;00m \u001b[43mc\u001b[49m:\n\u001b[32m      4\u001b[39m     \u001b[38;5;28mprint\u001b[39m(\u001b[33m'\u001b[39m\u001b[33mac\u001b[39m\u001b[33m'\u001b[39m)\n",
      "\u001b[31mNameError\u001b[39m: name 'c' is not defined"
     ]
    }
   ],
   "source": [
    "if a and b:\n",
    "    print('ab')\n",
    "if c:\n",
    "    print('ac')\n",
    "    "
   ]
  },
  {
   "cell_type": "code",
   "execution_count": 26,
   "id": "d5cbcc60",
   "metadata": {},
   "outputs": [
    {
     "name": "stdout",
     "output_type": "stream",
     "text": [
      "True\n"
     ]
    }
   ],
   "source": [
    "s = \"abcd(efgh(ijkl}{{}))\"\n",
    "match = False\n",
    "if s.count('(') == s.count(')'):\n",
    "    if s.count('[') == s.count(']'):\n",
    "        if s.count('{') == s.count('}'):\n",
    "            match = True\n",
    "\n",
    "print(match)"
   ]
  },
  {
   "cell_type": "code",
   "execution_count": 28,
   "id": "d6296443",
   "metadata": {},
   "outputs": [
    {
     "ename": "ValueError",
     "evalue": "too many values to unpack (expected 4)",
     "output_type": "error",
     "traceback": [
      "\u001b[31m---------------------------------------------------------------------------\u001b[39m",
      "\u001b[31mValueError\u001b[39m                                Traceback (most recent call last)",
      "\u001b[36mCell\u001b[39m\u001b[36m \u001b[39m\u001b[32mIn[28]\u001b[39m\u001b[32m, line 1\u001b[39m\n\u001b[32m----> \u001b[39m\u001b[32m1\u001b[39m a, b, c, d = \u001b[38;5;28minput\u001b[39m()\n",
      "\u001b[31mValueError\u001b[39m: too many values to unpack (expected 4)"
     ]
    }
   ],
   "source": [
    "a, b, c, d = input()"
   ]
  }
 ],
 "metadata": {
  "kernelspec": {
   "display_name": ".venv",
   "language": "python",
   "name": "python3"
  },
  "language_info": {
   "codemirror_mode": {
    "name": "ipython",
    "version": 3
   },
   "file_extension": ".py",
   "mimetype": "text/x-python",
   "name": "python",
   "nbconvert_exporter": "python",
   "pygments_lexer": "ipython3",
   "version": "3.13.3"
  }
 },
 "nbformat": 4,
 "nbformat_minor": 5
}
