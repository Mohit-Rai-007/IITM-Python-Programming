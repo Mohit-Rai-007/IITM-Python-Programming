{
 "cells": [
  {
   "cell_type": "code",
   "execution_count": 2,
   "id": "7096415f",
   "metadata": {},
   "outputs": [
    {
     "name": "stdout",
     "output_type": "stream",
     "text": [
      "555      |  66666  |  5555555\n"
     ]
    }
   ],
   "source": [
    "a,b = \"56\"\n",
    "s = f'{a*3:9}|{b*5:^9}|{a*7:>9}'\n",
    "print(s)"
   ]
  },
  {
   "cell_type": "markdown",
   "id": "f3b6898e",
   "metadata": {},
   "source": [
    "Formatting:\n",
    "\n",
    "f'{a*3:9}': by default left-aligns strings in width 9\n",
    "→ '555 '\n",
    "\n",
    "f'{b*5:^9}': center-align in width 9\n",
    "→ ' 66666 '\n",
    "\n",
    "f'{a*7:>9}': right-align in width 9\n",
    "→ ' 5555555'"
   ]
  },
  {
   "cell_type": "code",
   "execution_count": 7,
   "id": "14f5bedb",
   "metadata": {},
   "outputs": [
    {
     "name": "stdout",
     "output_type": "stream",
     "text": [
      "['555      |  66666  |  5555555']\n"
     ]
    },
    {
     "data": {
      "text/plain": [
       "NoneType"
      ]
     },
     "execution_count": 7,
     "metadata": {},
     "output_type": "execute_result"
    }
   ],
   "source": [
    "type(print(s.upper().split(\"-\")))"
   ]
  },
  {
   "cell_type": "markdown",
   "id": "822d3ca4",
   "metadata": {},
   "source": [
    "| Expression                          | Type                                 |\n",
    "| ----------------------------------- | ------------------------------------ |\n",
    "| `print(s.upper().split(\"-\"))`       | `NoneType` (if evaluated as a value) |\n",
    "| `type(s.upper().split(\"-\"))`        | `list`                               |\n",
    "| `type(print(s.upper().split(\"-\")))` | `NoneType`                           |\n"
   ]
  },
  {
   "cell_type": "code",
   "execution_count": 8,
   "id": "d3c0eb31",
   "metadata": {},
   "outputs": [
    {
     "data": {
      "text/plain": [
       "list"
      ]
     },
     "execution_count": 8,
     "metadata": {},
     "output_type": "execute_result"
    }
   ],
   "source": [
    "type(s[:3].upper().split())"
   ]
  },
  {
   "cell_type": "code",
   "execution_count": 9,
   "id": "5773bbf7",
   "metadata": {},
   "outputs": [
    {
     "ename": "AttributeError",
     "evalue": "'bool' object has no attribute 'isapha'",
     "output_type": "error",
     "traceback": [
      "\u001b[31m---------------------------------------------------------------------------\u001b[39m",
      "\u001b[31mAttributeError\u001b[39m                            Traceback (most recent call last)",
      "\u001b[36mCell\u001b[39m\u001b[36m \u001b[39m\u001b[32mIn[9]\u001b[39m\u001b[32m, line 1\u001b[39m\n\u001b[32m----> \u001b[39m\u001b[32m1\u001b[39m \u001b[38;5;28mtype\u001b[39m(\u001b[43ms\u001b[49m\u001b[43m.\u001b[49m\u001b[43mislower\u001b[49m\u001b[43m(\u001b[49m\u001b[43m)\u001b[49m\u001b[43m.\u001b[49m\u001b[43misapha\u001b[49m())\n",
      "\u001b[31mAttributeError\u001b[39m: 'bool' object has no attribute 'isapha'"
     ]
    }
   ],
   "source": [
    "type(s.islower().isapha())"
   ]
  },
  {
   "cell_type": "markdown",
   "id": "c7532027",
   "metadata": {},
   "source": [
    " Final conclusion:\n",
    "The expression s.islower().isapha() (or .isalpha()) is invalid and will raise an error.\n",
    "\n",
    "So the type of the expression itself does not exist because it raises an exception.\n",
    "\n",
    "If you meant s.islower(), its type is bool."
   ]
  },
  {
   "cell_type": "code",
   "execution_count": 11,
   "id": "998232da",
   "metadata": {},
   "outputs": [
    {
     "ename": "TypeError",
     "evalue": "startswith expected at least 1 argument, got 0",
     "output_type": "error",
     "traceback": [
      "\u001b[31m---------------------------------------------------------------------------\u001b[39m",
      "\u001b[31mTypeError\u001b[39m                                 Traceback (most recent call last)",
      "\u001b[36mCell\u001b[39m\u001b[36m \u001b[39m\u001b[32mIn[11]\u001b[39m\u001b[32m, line 1\u001b[39m\n\u001b[32m----> \u001b[39m\u001b[32m1\u001b[39m \u001b[38;5;28mtype\u001b[39m(\u001b[43ms\u001b[49m\u001b[43m.\u001b[49m\u001b[43mstartswith\u001b[49m\u001b[43m(\u001b[49m\u001b[43m)\u001b[49m)\n",
      "\u001b[31mTypeError\u001b[39m: startswith expected at least 1 argument, got 0"
     ]
    }
   ],
   "source": [
    "type(s.startswith())"
   ]
  },
  {
   "cell_type": "markdown",
   "id": "7977a425",
   "metadata": {},
   "source": [
    "What does startswith() do?\n",
    "startswith() is a string method used to check if the string starts with a specified prefix.\n",
    "\n",
    "It requires at least one argument: the prefix to check for.\n",
    "\n",
    "s.startswith('a')\n",
    "\n",
    "What happens if you call s.startswith() with no arguments?\n",
    "Python will raise a TypeError because the required positional argument is missing.\n",
    "\n",
    "So:\n",
    "The expression s.startswith() without any arguments will raise an error.\n",
    "\n",
    "Therefore, it does not have a type because it does not successfully evaluate.\n",
    "\n",
    "| Expression                | Result                                   |\n",
    "| ------------------------- | ---------------------------------------- |\n",
    "| `s.startswith()`          | Raises `TypeError` (missing argument)    |\n",
    "| `type(s.startswith('a'))` | `<class 'bool'>` (returns True or False) |\n",
    "\n",
    "\n",
    "If you want to know the type when used correctly:\n",
    "\n",
    "type(s.startswith('prefix'))  # returns <class 'bool'>\n"
   ]
  },
  {
   "cell_type": "code",
   "execution_count": 12,
   "id": "4fb19496",
   "metadata": {},
   "outputs": [
    {
     "data": {
      "text/plain": [
       "list"
      ]
     },
     "execution_count": 12,
     "metadata": {},
     "output_type": "execute_result"
    }
   ],
   "source": [
    "type(list(s))"
   ]
  },
  {
   "cell_type": "code",
   "execution_count": 13,
   "id": "d25a7140",
   "metadata": {},
   "outputs": [
    {
     "name": "stdout",
     "output_type": "stream",
     "text": [
      "555      |  66666  |  5555555\n"
     ]
    }
   ],
   "source": [
    "print(s)"
   ]
  },
  {
   "cell_type": "markdown",
   "id": "858e1a7d",
   "metadata": {},
   "source": [
    "What is the value of the expression bool('0.0')?\n",
    "\n",
    "Key Concept:\n",
    "'0.0' is a non-empty string.\n",
    "\n",
    "In Python, any non-empty string passed to bool() evaluates to True.\n",
    "\n",
    "It doesn't matter that the string represents the number zero — it is still a non-empty string.\n",
    "\n",
    "✅ Final Answer:\n",
    "True\n"
   ]
  },
  {
   "cell_type": "markdown",
   "id": "9bc547a6",
   "metadata": {},
   "source": [
    "What is the value of the expression bool(1 and 2 and 0)?\n",
    "\n",
    "Step-by-step:\n",
    "1. and in Python:\n",
    "The and operator returns the first falsy value it encounters, or the last value if all are truthy.\n",
    "\n",
    "Expression: 1 and 2 and 0\n",
    "1 is truthy → continue\n",
    "\n",
    "2 is truthy → continue\n",
    "\n",
    "0 is falsy → so the expression evaluates to 0\n",
    "\n",
    "2. bool(0):\n",
    "0 is falsy → bool(0) is False\n",
    "\n",
    "✅ Final Answer:\n",
    "False\n"
   ]
  }
 ],
 "metadata": {
  "kernelspec": {
   "display_name": ".venv",
   "language": "python",
   "name": "python3"
  },
  "language_info": {
   "codemirror_mode": {
    "name": "ipython",
    "version": 3
   },
   "file_extension": ".py",
   "mimetype": "text/x-python",
   "name": "python",
   "nbconvert_exporter": "python",
   "pygments_lexer": "ipython3",
   "version": "3.13.3"
  }
 },
 "nbformat": 4,
 "nbformat_minor": 5
}
