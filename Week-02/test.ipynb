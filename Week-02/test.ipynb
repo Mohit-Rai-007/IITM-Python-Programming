{
 "cells": [
  {
   "cell_type": "code",
   "execution_count": 1,
   "id": "46c506c5",
   "metadata": {},
   "outputs": [
    {
     "name": "stdout",
     "output_type": "stream",
     "text": [
      "Hello world\n"
     ]
    }
   ],
   "source": [
    "print(\"Hello world\")"
   ]
  },
  {
   "cell_type": "code",
   "execution_count": 2,
   "id": "164ec84c",
   "metadata": {},
   "outputs": [
    {
     "name": "stdout",
     "output_type": "stream",
     "text": [
      "This is my first time using jupyter notebook in vs code\n"
     ]
    }
   ],
   "source": [
    "print(\"This is my first time using jupyter notebook in vs code\")"
   ]
  },
  {
   "cell_type": "code",
   "execution_count": null,
   "id": "a585a7a8",
   "metadata": {},
   "outputs": [],
   "source": [
    "age=int(input(\"please enter your age: \"))\n",
    "\n",
    "if(age>13):\n",
    "    print(\"You can watch the movie\")\n",
    "else:\n",
    "    print(\"you can not watch the movie\")"
   ]
  },
  {
   "cell_type": "code",
   "execution_count": null,
   "id": "4efc55b1",
   "metadata": {},
   "outputs": [],
   "source": []
  }
 ],
 "metadata": {
  "kernelspec": {
   "display_name": ".venv",
   "language": "python",
   "name": "python3"
  },
  "language_info": {
   "codemirror_mode": {
    "name": "ipython",
    "version": 3
   },
   "file_extension": ".py",
   "mimetype": "text/x-python",
   "name": "python",
   "nbconvert_exporter": "python",
   "pygments_lexer": "ipython3",
   "version": "3.13.3"
  }
 },
 "nbformat": 4,
 "nbformat_minor": 5
}
